{
 "cells": [
  {
   "cell_type": "code",
   "execution_count": 1,
   "id": "12612abc-e6a7-4475-9d50-f434d958c4b9",
   "metadata": {},
   "outputs": [],
   "source": [
    "import numpy as np\n",
    "import pandas as pd"
   ]
  },
  {
   "cell_type": "code",
   "execution_count": 3,
   "id": "d1b6df59-bf5a-422f-bafd-98afadd0f8f8",
   "metadata": {},
   "outputs": [],
   "source": [
    "players = pd.Series(data=[45, 77, 18, 41, 1], index = ['Rohit', 'Shubman', 'Virat', 'Shreyas', 'Rahul'])"
   ]
  },
  {
   "cell_type": "code",
   "execution_count": 4,
   "id": "8a295f02-3b93-44b5-b747-abaeb83e1114",
   "metadata": {},
   "outputs": [
    {
     "data": {
      "text/plain": [
       "18"
      ]
     },
     "execution_count": 4,
     "metadata": {},
     "output_type": "execute_result"
    }
   ],
   "source": [
    "players['Virat']"
   ]
  },
  {
   "cell_type": "code",
   "execution_count": 5,
   "id": "0bc62062-30a6-43c9-9804-e7b3299aeec1",
   "metadata": {},
   "outputs": [
    {
     "data": {
      "text/plain": [
       "Rahul     23123213123\n",
       "Neha     423423432423\n",
       "dtype: int64"
      ]
     },
     "execution_count": 5,
     "metadata": {},
     "output_type": "execute_result"
    }
   ],
   "source": [
    "phonenumbers = {\n",
    "    'Rahul': 23123213123,\n",
    "    'Neha':423423432423\n",
    "}\n",
    "\n",
    "pd.Series(phonenumbers)"
   ]
  },
  {
   "cell_type": "code",
   "execution_count": 6,
   "id": "6257eb11-8ea8-492e-a000-b4b3a0baf93d",
   "metadata": {},
   "outputs": [],
   "source": [
    "x = pd.Series([1,2,3],['a','b','c'])\n",
    "y = pd.Series([4,5,6],['a', 'x', 'c'])"
   ]
  },
  {
   "cell_type": "code",
   "execution_count": 7,
   "id": "2f946546-f0f3-4275-b7e2-74c314f1a34f",
   "metadata": {},
   "outputs": [
    {
     "data": {
      "text/plain": [
       "a    5.0\n",
       "b    NaN\n",
       "c    9.0\n",
       "x    NaN\n",
       "dtype: float64"
      ]
     },
     "execution_count": 7,
     "metadata": {},
     "output_type": "execute_result"
    }
   ],
   "source": [
    "x + y"
   ]
  },
  {
   "cell_type": "code",
   "execution_count": null,
   "id": "3410b0b7-1777-4faa-826d-cadb84228ec8",
   "metadata": {},
   "outputs": [],
   "source": []
  }
 ],
 "metadata": {
  "kernelspec": {
   "display_name": "Python 3 (ipykernel)",
   "language": "python",
   "name": "python3"
  },
  "language_info": {
   "codemirror_mode": {
    "name": "ipython",
    "version": 3
   },
   "file_extension": ".py",
   "mimetype": "text/x-python",
   "name": "python",
   "nbconvert_exporter": "python",
   "pygments_lexer": "ipython3",
   "version": "3.11.0"
  }
 },
 "nbformat": 4,
 "nbformat_minor": 5
}
